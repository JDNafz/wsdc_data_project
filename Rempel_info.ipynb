{
 "cells": [
  {
   "cell_type": "code",
   "execution_count": 1,
   "id": "07be6fe4",
   "metadata": {},
   "outputs": [],
   "source": [
    "### Script to collect data from WSDC Points Registry API\n",
    "# by Sarah Rempel, API posts were from Connie Wang's Jan 2018 code:\n",
    "#       https://github.com/conniewang3/WSDC-Project/tree/master/part1\n",
    "# 2019-12-28, updated to collect names on 2021-02-27, updated to Jupyter Notebooks 2023-02-02"
   ]
  },
  {
   "cell_type": "code",
   "execution_count": 2,
   "id": "2e587837",
   "metadata": {},
   "outputs": [],
   "source": [
    "import pandas as pd\n",
    "import openpyxl, requests, pprint, time\n",
    "from datetime import date\n",
    "import simplejson as json"
   ]
  },
  {
   "cell_type": "code",
   "execution_count": 3,
   "id": "6ea2e9c7",
   "metadata": {},
   "outputs": [],
   "source": [
    "### Install packages\n",
    "## with conda:\n",
    "#import sys\n",
    "#!conda install --yes --prefix {sys.prefix} simplejson\n",
    "## with pip:\n",
    "#import sys\n",
    "#!{sys.executable} -m pip install numpy"
   ]
  },
  {
   "cell_type": "code",
   "execution_count": 4,
   "id": "ee837f03",
   "metadata": {},
   "outputs": [],
   "source": [
    "API_url = 'https://points.worldsdc.com/lookup/find'\n",
    "\n",
    "point_df = pd.DataFrame(columns = ['wsdc_id', 'level_points', 'allowed_level', 'required_level', \\\n",
    "                                   'event_level', 'event_name', 'event_location', 'event_date', \\\n",
    "                                   'points', 'result', 'role', 'first_name', 'last_name'])\n",
    "today = date.today() # the collection date will be appended to the excel file so I know when I ran it\n"
   ]
  },
  {
   "cell_type": "code",
   "execution_count": null,
   "id": "d961fec3",
   "metadata": {},
   "outputs": [
    {
     "name": "stdout",
     "output_type": "stream",
     "text": [
      "Empty DataFrame\n",
      "Columns: [wsdc_id, level_points, allowed_level, required_level, event_level, event_name, event_location, event_date, points, result, role, first_name, last_name]\n",
      "Index: []\n"
     ]
    }
   ],
   "source": [
    "# Pick the start and end numbers. Note that it's best to do 5-10k numbers at a time (takes ~1-2hr to run)\n",
    "#    instead of doing the whole thing at once (which takes 4-6 hours)\n",
    "start = 13758 # My (JD's) number is 13758 to start and edit at 13759 to not include anyone else.\n",
    "end = 13759\n",
    "# up to 21606 as of 2023-04-01\n",
    "print(point_df)"
   ]
  },
  {
   "cell_type": "code",
   "execution_count": 6,
   "id": "59991a31",
   "metadata": {
    "scrolled": true
   },
   "outputs": [
    {
     "name": "stdout",
     "output_type": "stream",
     "text": [
      "{'type': 'dancer', 'dancer': {'id': 13412, 'first_name': 'JD', 'last_name': 'Nafziger', 'wscid': 13758}, 'level': {'required': 'ADV', 'allowed': 'ADV', 'reason': ''}, 'placements': {'West Coast Swing': {'ADV': {'division': {'id': 6, 'name': 'Advanced', 'abbreviation': 'ADV'}, 'total_points': 27, 'competitions': [{'role': 'leader', 'points': 1, 'event': {'id': 259, 'name': 'Swingover', 'location': 'Orlando, FL', 'url': 'http://www.swingoverevent.com', 'date': 'April 2023'}, 'result': 'F'}, {'role': 'leader', 'points': 12, 'event': {'id': 18, 'name': 'Easter Swing', 'location': 'Bellevue, WA', 'url': 'http://www.easterswing.org/', 'date': 'April 2023'}, 'result': '2'}, {'role': 'leader', 'points': 2, 'event': {'id': 142, 'name': 'The Chicago Classic', 'location': 'Chicago, IL', 'url': 'http://www.thechicagoclassic.com', 'date': 'March 2023'}, 'result': '5'}, {'role': 'leader', 'points': 6, 'event': {'id': 125, 'name': 'Swing City Chicago', 'location': 'Chicago, IL', 'url': 'http://www.swingcitychicago.com', 'date': 'October 2022'}, 'result': '3'}, {'role': 'leader', 'points': 6, 'event': {'id': 142, 'name': 'The Chicago Classic', 'location': 'Chicago, IL', 'url': 'http://www.thechicagoclassic.com', 'date': 'March 2022'}, 'result': '3'}]}, 'INT': {'division': {'id': 5, 'name': 'Intermediate', 'abbreviation': 'INT'}, 'total_points': 36, 'competitions': [{'role': 'follower', 'points': 1, 'event': {'id': 259, 'name': 'Swingover', 'location': 'Orlando, FL', 'url': 'http://www.swingoverevent.com', 'date': 'April 2023'}, 'result': 'F'}, {'role': 'follower', 'points': 2, 'event': {'id': 142, 'name': 'The Chicago Classic', 'location': 'Chicago, IL', 'url': 'http://www.thechicagoclassic.com', 'date': 'March 2022'}, 'result': '5'}, {'role': 'follower', 'points': 1, 'event': {'id': 244, 'name': 'Rose City Swing', 'location': 'Portland, OR', 'url': 'http://www.rosecityswing.com', 'date': 'February 2022'}, 'result': 'F'}, {'role': 'leader', 'points': 1, 'event': {'id': 211, 'name': 'Atlanta Swing Classic', 'location': 'Atlanta, GA', 'url': 'http://www.atlantaswingclassic.com', 'date': 'October 2021'}, 'result': 'F'}, {'role': 'follower', 'points': 2, 'event': {'id': 87, 'name': 'C.A.S.H. Bash Weekend', 'location': 'Twinsburg, OH', 'url': 'http://www.cashdanceclub.org', 'date': 'December 2019'}, 'result': '5'}, {'role': 'leader', 'points': 10, 'event': {'id': 125, 'name': 'Swing City Chicago', 'location': 'Chicago, IL', 'url': 'http://www.swingcitychicago.com/', 'date': 'October 2019'}, 'result': '1'}, {'role': 'leader', 'points': 2, 'event': {'id': 131, 'name': 'Meet Me in St. Louis Swing Dance Championships', 'location': 'St. Louis, MO', 'url': 'http://www.MeetMeInStLouisSDC.com', 'date': 'September 2019'}, 'result': '5'}, {'role': 'leader', 'points': 6, 'event': {'id': 131, 'name': 'Meet Me in St. Louis Swing Dance Championships', 'location': 'St. Louis, MO', 'url': 'http://www.meetmeinstlouissdc.com', 'date': 'September 2018'}, 'result': '3'}, {'role': 'leader', 'points': 1, 'event': {'id': 76, 'name': 'Michigan Dance Classic', 'location': 'Dearborn, MI', 'url': '', 'date': 'June 2018'}, 'result': 'F'}, {'role': 'leader', 'points': 10, 'event': {'id': 242, 'name': 'Derby City Swing', 'location': 'Louisville, KY', 'url': '', 'date': 'January 2018'}, 'result': '1'}]}, 'NOV': {'division': {'id': 4, 'name': 'Novice', 'abbreviation': 'NOV'}, 'total_points': 17, 'competitions': [{'role': 'leader', 'points': 8, 'event': {'id': 76, 'name': 'Michigan Dance Classic', 'location': 'Dearborn, MI', 'url': '', 'date': 'June 2017'}, 'result': '2'}, {'role': 'leader', 'points': 1, 'event': {'id': 61, 'name': 'SwingDiego', 'location': 'San Diego, CA', 'url': '', 'date': 'May 2017'}, 'result': 'F'}, {'role': 'leader', 'points': 6, 'event': {'id': 134, 'name': 'Swing Dance America', 'location': 'Lake Geneva, IL', 'url': '', 'date': 'April 2017'}, 'result': '3'}, {'role': 'leader', 'points': 1, 'event': {'id': 242, 'name': 'Derby City Swing', 'location': 'Louisville, KY', 'url': '', 'date': 'January 2017'}, 'result': 'F'}, {'role': 'leader', 'points': 1, 'event': {'id': 125, 'name': 'Swing City Chicago', 'location': 'Chicago, IL', 'url': '', 'date': 'October 2016'}, 'result': 'F'}]}, 'NEW': {'division': {'id': 3, 'name': 'Newcomer', 'abbreviation': 'NEW'}, 'total_points': 6, 'competitions': [{'role': 'leader', 'points': 6, 'event': {'id': 242, 'name': 'Derby City Swing', 'location': 'Louisville, KY', 'url': '', 'date': 'January 2016'}, 'result': '3'}]}}}}\n",
      "Dancer #13758 completed.\n",
      "That's all the westies!\n"
     ]
    }
   ],
   "source": [
    "# Loop to go through every WSDC number\n",
    "for wsdc_id in range(start, end):\n",
    "    try:\n",
    "        response = requests.post(API_url, {'q': wsdc_id}).json()\n",
    "        \n",
    "        print(response)\n",
    "\n",
    "        # only cases with valid WSDC IDs containing WCS placements\n",
    "        if len(response) > 2 and response['placements'] != [] and 'West Coast Swing' in response['placements'].keys():\n",
    "            # print('Westie confirmed.')\n",
    "            westie = response['placements']['West Coast Swing']\n",
    "\n",
    "            #Extract dancer's level information and name\n",
    "            allowed_level = response['level']['allowed']\n",
    "            required_level = response['level']['required']\n",
    "            first_name = response['dancer']['first_name']\n",
    "            last_name = response['dancer']['last_name']\n",
    "            \n",
    "            #Extract information on a per level and per event basis\n",
    "            for event_level in westie:\n",
    "                # print(event_level + \" of \" + str(len(westie)))\n",
    "                tot_points = westie[event_level]['total_points']\n",
    "                eventList = westie[event_level]['competitions']\n",
    "\n",
    "                for i in range(len(eventList)):\n",
    "                    #print(str(i) + \" of \" + str(len(eventList)))\n",
    "                    event_name = eventList[i]['event']['name']\n",
    "                    event_date = eventList[i]['event']['date']\n",
    "                    event_location = eventList[i]['event']['location']\n",
    "                    points = eventList[i]['points']\n",
    "                    result = eventList[i]['result']\n",
    "                    role = eventList[i]['role']\n",
    "                    #print(role)\n",
    "\n",
    "                    obs = {'wsdc_id': wsdc_id, 'level_points': str(event_level)+'_'+str(tot_points), \\\n",
    "                           'allowed_level': allowed_level, 'required_level': required_level, \\\n",
    "                           'event_level': event_level, 'event_name': event_name, \\\n",
    "                           'event_location': event_location, 'event_date': event_date, \\\n",
    "                           'points': points, 'result': result, 'role': role, \\\n",
    "                           'first_name': first_name, 'last_name': last_name}\n",
    "                    \n",
    "                    point_df_new_row = pd.DataFrame(obs, index = [0])\n",
    "                    point_df = pd.concat([point_df, point_df_new_row], ignore_index = True)   \n",
    "                    \n",
    "            if wsdc_id % 2000 == 0:\n",
    "                point_df.to_csv('C:\\\\Users\\\\nafzi\\\\Desktop\\\\WSDCdata\\\\Point_DF_'+str(today)+'updating.csv')\n",
    "            \n",
    "        print('Dancer #'+str(wsdc_id)+' completed.')\n",
    "        # sleep for 0.5 seconds on each for loop to let WSDC website rest\n",
    "        time.sleep(0.5)\n",
    "                    \n",
    "                    #print('Westie #'+str(wsdc_id)+' got '+str(points)+' points as a '+role+' in '+event_date \\\n",
    "                    #     +'. They are level '+allowed_level+'.')\n",
    "        #else:\n",
    "               #print('No such westie with #' + str(wsdc_id) + ' exists.')\n",
    "    except ValueError as IndexError:\n",
    "        continue\n",
    "print('That\\'s all the westies!')\n"
   ]
  },
  {
   "cell_type": "code",
   "execution_count": 7,
   "id": "53327f24",
   "metadata": {},
   "outputs": [],
   "source": [
    "# Export dataframe to a csv file with the path shown\n",
    "# point_df.to_csv('C:\\\\Users\\\\nafzi\\\\Desktop\\\\WSDCdata\\\\Point_DF_'+str(start)+'-'+str(end)+'_'+str(today)+'.csv')"
   ]
  },
  {
   "cell_type": "markdown",
   "id": "0d30c80c",
   "metadata": {},
   "source": [
    "# response = requests.post(API_url, {'q': wsdc_id}).json()\n",
    "#response is the following:\n",
    "{'type': 'dancer', \n",
    "'dancer': {'id': 13412, 'first_name': 'JD', 'last_name': 'Nafziger', 'wscid': 13758}, \n",
    "'level': {'required': 'ADV', 'allowed': 'ADV', 'reason': ''}, \n",
    "'placements': {\n",
    "    'West Coast Swing': \n",
    "    {'ADV': {'division': {'id': 6, 'name': 'Advanced', 'abbreviation': 'ADV'}, 'total_points': 27, \n",
    "        'competitions': \n",
    "            [{'role': 'leader', 'points': 1, 'event': {'id': 259, 'name': 'Swingover', 'location': 'Orlando, FL', 'url': 'http://www.swingoverevent.com', 'date': 'April 2023'}, 'result': 'F'}, \n",
    "            {'role': 'leader', 'points': 12, 'event': {'id': 18, 'name': 'Easter Swing', 'location': 'Bellevue, WA', 'url': 'http://www.easterswing.org/', 'date': 'April 2023'}, 'result': '2'}, \n",
    "            {'role': 'leader', 'points': 2, 'event': {'id': 142, 'name': 'The Chicago Classic', 'location': 'Chicago, IL', 'url': 'http://www.thechicagoclassic.com', 'date': 'March 2023'}, 'result': '5'}, \n",
    "            {'role': 'leader', 'points': 6, 'event': {'id': 125, 'name': 'Swing City Chicago', 'location': 'Chicago, IL', 'url': 'http://www.swingcitychicago.com', 'date': 'October 2022'}, 'result': '3'}, \n",
    "            {'role': 'leader', 'points': 6, 'event': {'id': 142, 'name': 'The Chicago Classic', 'location': 'Chicago, IL', 'url': 'http://www.thechicagoclassic.com', 'date': 'March 2022'}, 'result': '3'}]}, \n",
    "    'INT': {'division': {'id': 5, 'name': 'Intermediate', 'abbreviation': 'INT'}, 'total_points': 36, \n",
    "        'competitions': \n",
    "            [{'role': 'follower', 'points': 1, 'event': {'id': 259, 'name': 'Swingover', 'location': 'Orlando, FL', 'url': 'http://www.swingoverevent.com', 'date': 'April 2023'}, 'result': 'F'}, \n",
    "                {'role': 'follower', 'points': 2, 'event': {'id': 142, 'name': 'The Chicago Classic', 'location': 'Chicago, IL', 'url': 'http://www.thechicagoclassic.com', 'date': 'March 2022'}, 'result': '5'}, \n",
    "                {'role': 'follower', 'points': 1, 'event': {'id': 244, 'name': 'Rose City Swing', 'location': 'Portland, OR', 'url': 'http://www.rosecityswing.com', 'date': 'February 2022'}, 'result': 'F'}, \n",
    "                {'role': 'leader', 'points': 1, 'event': {'id': 211, 'name': 'Atlanta Swing Classic', 'location': 'Atlanta, GA', 'url': 'http://www.atlantaswingclassic.com', 'date': 'October 2021'}, 'result': 'F'}, \n",
    "                {'role': 'follower', 'points': 2, 'event': {'id': 87, 'name': 'C.A.S.H. Bash Weekend', 'location': 'Twinsburg, OH', 'url': 'http://www.cashdanceclub.org', 'date': 'December 2019'}, 'result': '5'}, \n",
    "                {'role': 'leader', 'points': 10, 'event': {'id': 125, 'name': 'Swing City Chicago', 'location': 'Chicago, IL', 'url': 'http://www.swingcitychicago.com/', 'date': 'October 2019'}, 'result': '1'}, \n",
    "                {'role': 'leader', 'points': 2, 'event': {'id': 131, 'name': 'Meet Me in St. Louis Swing Dance Championships', 'location': 'St. Louis, MO', 'url': 'http://www.MeetMeInStLouisSDC.com', 'date': 'September 2019'}, 'result': '5'}, \n",
    "                {'role': 'leader', 'points': 6, 'event': {'id': 131, 'name': 'Meet Me in St. Louis Swing Dance Championships', 'location': 'St. Louis, MO', 'url': 'http://www.meetmeinstlouissdc.com', 'date': 'September 2018'}, 'result': '3'}, \n",
    "                {'role': 'leader', 'points': 1, 'event': {'id': 76, 'name': 'Michigan Dance Classic', 'location': 'Dearborn, MI', 'url': '', 'date': 'June 2018'}, 'result': 'F'}, \n",
    "                {'role': 'leader', 'points': 10, 'event': {'id': 242, 'name': 'Derby City Swing', 'location': 'Louisville, KY', 'url': '', 'date': 'January 2018'}, 'result': '1'}]}, \n",
    "    'NOV': {'division': {'id': 4, 'name': 'Novice', 'abbreviation': 'NOV'}, 'total_points': 17, \n",
    "        'competitions': \n",
    "            [{'role': 'leader', 'points': 8, 'event': {'id': 76, 'name': 'Michigan Dance Classic', 'location': 'Dearborn, MI', 'url': '', 'date': 'June 2017'}, 'result': '2'}, \n",
    "                {'role': 'leader', 'points': 1, 'event': {'id': 61, 'name': 'SwingDiego', 'location': 'San Diego, CA', 'url': '', 'date': 'May 2017'}, 'result': 'F'}, \n",
    "                {'role': 'leader', 'points': 6, 'event': {'id': 134, 'name': 'Swing Dance America', 'location': 'Lake Geneva, IL', 'url': '', 'date': 'April 2017'}, 'result': '3'}, \n",
    "                {'role': 'leader', 'points': 1, 'event': {'id': 242, 'name': 'Derby City Swing', 'location': 'Louisville, KY', 'url': '', 'date': 'January 2017'}, 'result': 'F'}, \n",
    "                {'role': 'leader', 'points': 1, 'event': {'id': 125, 'name': 'Swing City Chicago', 'location': 'Chicago, IL', 'url': '', 'date': 'October 2016'}, 'result': 'F'}]}, \n",
    "    'NEW': {'division': {'id': 3, 'name': 'Newcomer', 'abbreviation': 'NEW'}, 'total_points': 6, \n",
    "        'competitions': \n",
    "            [{'role': 'leader', 'points': 6, 'event': {'id': 242, 'name': 'Derby City Swing', 'location': 'Louisville, KY', 'url': '', 'date': 'January 2016'}, 'result': '3'}]}\n",
    "    }} #close placements #close \"West Coast Swing\"\n",
    "} #close response\n",
    "\n"
   ]
  },
  {
   "attachments": {},
   "cell_type": "markdown",
   "id": "d4051657",
   "metadata": {},
   "source": [
    "\n"
   ]
  },
  {
   "cell_type": "code",
   "execution_count": null,
   "id": "8678e531",
   "metadata": {},
   "outputs": [],
   "source": []
  },
  {
   "cell_type": "code",
   "execution_count": null,
   "id": "4af683ea",
   "metadata": {},
   "outputs": [],
   "source": []
  },
  {
   "cell_type": "code",
   "execution_count": null,
   "id": "d7437e26",
   "metadata": {},
   "outputs": [],
   "source": []
  }
 ],
 "metadata": {
  "kernelspec": {
   "display_name": "Python 3",
   "language": "python",
   "name": "python3"
  },
  "language_info": {
   "codemirror_mode": {
    "name": "ipython",
    "version": 3
   },
   "file_extension": ".py",
   "mimetype": "text/x-python",
   "name": "python",
   "nbconvert_exporter": "python",
   "pygments_lexer": "ipython3",
   "version": "3.11.0"
  },
  "vscode": {
   "interpreter": {
    "hash": "c261aea317cc0286b3b3261fbba9abdec21eaa57589985bb7a274bf54d6cc0a7"
   }
  }
 },
 "nbformat": 4,
 "nbformat_minor": 5
}
